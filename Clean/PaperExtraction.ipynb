{
 "cells": [
  {
   "cell_type": "code",
   "execution_count": 1,
   "id": "e0f6229b",
   "metadata": {},
   "outputs": [],
   "source": [
    "import pandas as pd\n",
    "import json"
   ]
  },
  {
   "cell_type": "code",
   "execution_count": 1,
   "id": "0a8614bb",
   "metadata": {},
   "outputs": [],
   "source": [
    "import os\n",
    "import pandas as pd\n",
    "\n",
    "# Set the directory where your CSV files are located\n",
    "folder_path = '/Users/huiziyu/Library/CloudStorage/GoogleDrive-huiziy@g.ucla.edu/My Drive/Project - LLM in Biomedical & Health/new_data/processed'\n",
    "\n",
    "# Initialize an empty DataFrame to store the combined data\n",
    "combined_data = pd.DataFrame()\n",
    "\n",
    "# Iterate through files in the folder\n",
    "for filename in os.listdir(folder_path):\n",
    "    if filename.endswith('.csv'):\n",
    "        # Read each CSV file into a DataFrame\n",
    "        file_path = os.path.join(folder_path, filename)\n",
    "        df = pd.read_csv(file_path)\n",
    "        \n",
    "        # Append the data to the combined DataFrame\n",
    "        combined_data = combined_data.append(df, ignore_index=True)\n",
    "\n",
    "# Save the combined data to a new CSV file\n",
    "# combined_data.to_csv('combined_data.csv', index=False)"
   ]
  },
  {
   "cell_type": "code",
   "execution_count": 3,
   "id": "72e01a81",
   "metadata": {},
   "outputs": [],
   "source": [
    "def inverted_index_to_sentence(inverted_index):\n",
    "    # Create a list with None in the places of the words\n",
    "    sentence_list = [None] * (max(max(indices) for indices in inverted_index.values()) + 1)\n",
    "\n",
    "    # Place words in the correct order based on their indices\n",
    "    for word, indices in inverted_index.items():\n",
    "        for index in indices:\n",
    "            sentence_list[index] = word\n",
    "\n",
    "    # Join the list into a string to form a complete sentence, fill gaps with placeholder\n",
    "    sentence = ' '.join(word if word is not None else '[...]' for word in sentence_list)\n",
    "\n",
    "    return sentence"
   ]
  },
  {
   "cell_type": "code",
   "execution_count": 4,
   "id": "fc7bec4a",
   "metadata": {},
   "outputs": [
    {
     "name": "stdout",
     "output_type": "stream",
     "text": [
      "1000\n",
      "2000\n",
      "3000\n",
      "4000\n",
      "5000\n",
      "6000\n",
      "7000\n",
      "8000\n"
     ]
    }
   ],
   "source": [
    "PATH_data_export = \"/Users/huiziyu/Library/CloudStorage/GoogleDrive-huiziy@g.ucla.edu/My Drive/Project - LLM in Biomedical & Health/new_data/processed/\"\n",
    "\n",
    "### Setup openalex API\n",
    "import pyalex\n",
    "pyalex.config.email = \"huiziy@umich.edu\"\n",
    "from pyalex import Works #, Authors, Sources, Institutions, Concepts, Publishers, Funders\n",
    "\n",
    "# helpfer function with jsonl\n",
    "def save_to_jsonl(data, file_name):\n",
    "    with open(file_name, 'a') as f:\n",
    "        f.write(json.dumps(data) + '\\n')\n",
    "\n",
    "all_works = []\n",
    "file_name = \"openalex_works.jsonl\"\n",
    "i_counter = 0\n",
    "\n",
    "# Assuming you have a DataFrame named 'combined_data'\n",
    "for _, row in combined_data.iterrows():\n",
    "    i_counter += 1\n",
    "    if i_counter % 1000 == 0:\n",
    "        print(i_counter)\n",
    "\n",
    "    this_work = {}\n",
    "    if type(row['doi']) != float:\n",
    "        try:\n",
    "            this_work = Works()[\"https://doi.org/\"+row['doi']]\n",
    "        except:\n",
    "            pass\n",
    "\n",
    "    # Apply the inverted_index_to_text function and store the result in 'abstract_text'\n",
    "    try:\n",
    "        row['abstract_text'] = inverted_index_to_sentence(this_work['abstract_inverted_index'])\n",
    "    except:\n",
    "        pass\n",
    "\n",
    "    # Append the row to the 'all_works' list\n",
    "    all_works.append(row)\n",
    "\n",
    "# Save the modified data to a JSON file\n",
    "output_df = pd.DataFrame(all_works)\n",
    "output_df.to_json(f'{PATH_data_export}/output_data.json', orient='records', lines=True)\n",
    "output_df.to_csv(f'{PATH_data_export}/output_data.csv', index=False)"
   ]
  },
  {
   "cell_type": "code",
   "execution_count": 5,
   "id": "230ec620",
   "metadata": {},
   "outputs": [],
   "source": [
    "this_work['abstract_inverted_index']"
   ]
  },
  {
   "cell_type": "code",
   "execution_count": 12,
   "id": "7a9759d3",
   "metadata": {},
   "outputs": [
    {
     "ename": "AttributeError",
     "evalue": "'list' object has no attribute 'head'",
     "output_type": "error",
     "traceback": [
      "\u001b[0;31m---------------------------------------------------------------------------\u001b[0m",
      "\u001b[0;31mAttributeError\u001b[0m                            Traceback (most recent call last)",
      "Input \u001b[0;32mIn [12]\u001b[0m, in \u001b[0;36m<cell line: 1>\u001b[0;34m()\u001b[0m\n\u001b[0;32m----> 1\u001b[0m \u001b[43mall_works\u001b[49m\u001b[38;5;241;43m.\u001b[39;49m\u001b[43mhead\u001b[49m()\n",
      "\u001b[0;31mAttributeError\u001b[0m: 'list' object has no attribute 'head'"
     ]
    }
   ],
   "source": [
    "all_works.head()"
   ]
  }
 ],
 "metadata": {
  "kernelspec": {
   "display_name": "Python 3 (ipykernel)",
   "language": "python",
   "name": "python3"
  },
  "language_info": {
   "codemirror_mode": {
    "name": "ipython",
    "version": 3
   },
   "file_extension": ".py",
   "mimetype": "text/x-python",
   "name": "python",
   "nbconvert_exporter": "python",
   "pygments_lexer": "ipython3",
   "version": "3.9.12"
  }
 },
 "nbformat": 4,
 "nbformat_minor": 5
}
