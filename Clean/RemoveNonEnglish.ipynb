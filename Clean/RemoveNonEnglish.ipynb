{
 "cells": [
  {
   "cell_type": "code",
   "execution_count": 1,
   "id": "22be748b",
   "metadata": {},
   "outputs": [],
   "source": [
    "import pandas as pd\n",
    "from langdetect import detect"
   ]
  },
  {
   "cell_type": "code",
   "execution_count": 2,
   "id": "15e6a7b8",
   "metadata": {},
   "outputs": [],
   "source": [
    "PATH_data_export = \"/Users/huiziyu/Library/CloudStorage/GoogleDrive-huiziy@g.ucla.edu/My Drive/Project - LLM in Biomedical & Health/new_data/processed/\""
   ]
  },
  {
   "cell_type": "code",
   "execution_count": 3,
   "id": "1b4abd53",
   "metadata": {},
   "outputs": [],
   "source": [
    "df = pd.read_csv(f'{PATH_data_export}/output_data.csv')"
   ]
  },
  {
   "cell_type": "code",
   "execution_count": 6,
   "id": "e61f3ca1",
   "metadata": {},
   "outputs": [],
   "source": [
    "df['abstract_text'] = df['abstract_text'].astype(str)"
   ]
  },
  {
   "cell_type": "code",
   "execution_count": 7,
   "id": "efac3d8b",
   "metadata": {},
   "outputs": [],
   "source": [
    "df_new = df[df.abstract_text.apply(detect).eq('en')]"
   ]
  },
  {
   "cell_type": "code",
   "execution_count": null,
   "id": "4a37a7d5",
   "metadata": {},
   "outputs": [],
   "source": []
  }
 ],
 "metadata": {
  "kernelspec": {
   "display_name": "Python 3 (ipykernel)",
   "language": "python",
   "name": "python3"
  },
  "language_info": {
   "codemirror_mode": {
    "name": "ipython",
    "version": 3
   },
   "file_extension": ".py",
   "mimetype": "text/x-python",
   "name": "python",
   "nbconvert_exporter": "python",
   "pygments_lexer": "ipython3",
   "version": "3.9.12"
  }
 },
 "nbformat": 4,
 "nbformat_minor": 5
}
