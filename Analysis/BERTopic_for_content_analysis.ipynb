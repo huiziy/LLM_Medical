{
 "cells": [
  {
   "cell_type": "code",
   "execution_count": 1,
   "id": "542659e8",
   "metadata": {},
   "outputs": [],
   "source": [
    "import pandas as pd\n",
    "import numpy as np\n",
    "import os"
   ]
  },
  {
   "cell_type": "code",
   "execution_count": 2,
   "id": "2cf5f0c8-4f91-4777-90fc-d55648dc7461",
   "metadata": {},
   "outputs": [],
   "source": [
    "result_path = \"../new/results/\""
   ]
  },
  {
   "cell_type": "code",
   "execution_count": 3,
   "id": "c30a9e85-74a5-4760-96d9-4801c2024f08",
   "metadata": {},
   "outputs": [],
   "source": [
    "data_export_path = \"../new/results/\""
   ]
  },
  {
   "cell_type": "code",
   "execution_count": 4,
   "id": "42c9f434",
   "metadata": {},
   "outputs": [
    {
     "name": "stderr",
     "output_type": "stream",
     "text": [
      "/var/folders/16/dh6sy2v17_l39d8bcf_6y7n00000gr/T/ipykernel_38347/399446867.py:1: DtypeWarning: Columns (12,27) have mixed types. Specify dtype option on import or set low_memory=False.\n",
      "  df = pd.read_csv(\"output_data.csv\")\n"
     ]
    }
   ],
   "source": [
    "df = pd.read_csv(\"output_data.csv\")"
   ]
  },
  {
   "cell_type": "code",
   "execution_count": 5,
   "id": "6cfdf4b4",
   "metadata": {},
   "outputs": [
    {
     "name": "stderr",
     "output_type": "stream",
     "text": [
      "/var/folders/16/dh6sy2v17_l39d8bcf_6y7n00000gr/T/ipykernel_38347/2091081822.py:2: FutureWarning: Setting an item of incompatible dtype is deprecated and will raise in a future error of pandas. Value '' has dtype incompatible with float64, please explicitly cast to a compatible dtype first.\n",
      "  df.fillna(\"\",inplace=True)\n"
     ]
    }
   ],
   "source": [
    "# replace na with \"\"\n",
    "df.fillna(\"\",inplace=True)"
   ]
  },
  {
   "cell_type": "code",
   "execution_count": 6,
   "id": "2285d9ac",
   "metadata": {},
   "outputs": [],
   "source": [
    "abstract_df = df[['display_name','doi','abstract_text']].reset_index(drop=True)"
   ]
  },
  {
   "cell_type": "code",
   "execution_count": 7,
   "id": "8300ac63",
   "metadata": {},
   "outputs": [],
   "source": [
    "# We use title and abstract, as well focus on sentence-line context aware info, not keywords.\n",
    "abstract_df[\"Title_abstract\"] = abstract_df[\"display_name\"]+\". \"+abstract_df[\"abstract_text\"]\n",
    "# now titel only\n",
    "abstract_df[\"Title_abstract\"] = abstract_df[\"display_name\"]"
   ]
  },
  {
   "cell_type": "markdown",
   "id": "4f390956",
   "metadata": {},
   "source": [
    "### Topic Modeling"
   ]
  },
  {
   "cell_type": "code",
   "execution_count": 8,
   "id": "f0131856",
   "metadata": {},
   "outputs": [],
   "source": [
    "from bertopic import BERTopic\n",
    "from sentence_transformers import SentenceTransformer\n",
    "from umap import UMAP\n",
    "from sklearn.feature_extraction.text import CountVectorizer\n",
    "from hdbscan import HDBSCAN\n",
    "from sklearn.cluster import KMeans"
   ]
  },
  {
   "cell_type": "code",
   "execution_count": 9,
   "id": "b8e05213",
   "metadata": {},
   "outputs": [],
   "source": [
    "docs = [str(item) for item in list(abstract_df.Title_abstract)]"
   ]
  },
  {
   "cell_type": "code",
   "execution_count": 10,
   "id": "577f2ce8",
   "metadata": {},
   "outputs": [
    {
     "name": "stderr",
     "output_type": "stream",
     "text": [
      "huggingface/tokenizers: The current process just got forked, after parallelism has already been used. Disabling parallelism to avoid deadlocks...\n",
      "To disable this warning, you can either:\n",
      "\t- Avoid using `tokenizers` before the fork if possible\n",
      "\t- Explicitly set the environment variable TOKENIZERS_PARALLELISM=(true | false)\n",
      "/Users/lizhouf/opt/anaconda3/envs/bertopic/lib/python3.10/site-packages/threadpoolctl.py:1010: RuntimeWarning: \n",
      "Found Intel OpenMP ('libiomp') and LLVM OpenMP ('libomp') loaded at\n",
      "the same time. Both libraries are known to be incompatible and this\n",
      "can cause random crashes or deadlocks on Linux when loaded in the\n",
      "same Python program.\n",
      "Using threadpoolctl may cause crashes or deadlocks. For more\n",
      "information and possible workarounds, please see\n",
      "    https://github.com/joblib/threadpoolctl/blob/master/multiple_openmp.md\n",
      "\n",
      "  warnings.warn(msg, RuntimeWarning)\n"
     ]
    }
   ],
   "source": [
    "# [TODO 1] need to consider remove query keywords\n",
    "# [TODO 2] remove non-English\n",
    "# [TODO 3] cluster number: more experiments [20, 30, 40, 50, 100, 150, 200]\n",
    "# 200 too many\n",
    "vectorizer_model = CountVectorizer(stop_words=\"english\")\n",
    "# hdbscan_model = HDBSCAN(min_cluster_size=10,\n",
    "#                         min_samples=5,\n",
    "#                         metric='euclidean',\n",
    "#                         cluster_selection_method='eom',\n",
    "#                         prediction_data=True) # random_state=42\n",
    "cluster_model = KMeans(n_clusters=200)\n",
    "topic_model = BERTopic(hdbscan_model=cluster_model, #hdbscan_model,\n",
    "                       vectorizer_model=vectorizer_model,\n",
    "                       top_n_words=10) # nr_topics=100,\n",
    "topics, probs = topic_model.fit_transform(docs)"
   ]
  },
  {
   "cell_type": "code",
   "execution_count": 11,
   "id": "51c7664e",
   "metadata": {},
   "outputs": [
    {
     "name": "stderr",
     "output_type": "stream",
     "text": [
      "/Users/lizhouf/opt/anaconda3/envs/bertopic/lib/python3.10/site-packages/scipy/sparse/_index.py:143: SparseEfficiencyWarning: Changing the sparsity structure of a csr_matrix is expensive. lil_matrix is more efficient.\n",
      "  self._set_arrayXarray(i, j, x)\n"
     ]
    }
   ],
   "source": [
    "topic_model.save(result_path+\"/LLM_title_200\")"
   ]
  },
  {
   "cell_type": "code",
   "execution_count": 12,
   "id": "59159644",
   "metadata": {},
   "outputs": [],
   "source": [
    "abstract_df[\"topics\"] = topics"
   ]
  },
  {
   "cell_type": "code",
   "execution_count": 13,
   "id": "d80acec7",
   "metadata": {},
   "outputs": [
    {
     "data": {
      "text/html": [
       "<div>\n",
       "<style scoped>\n",
       "    .dataframe tbody tr th:only-of-type {\n",
       "        vertical-align: middle;\n",
       "    }\n",
       "\n",
       "    .dataframe tbody tr th {\n",
       "        vertical-align: top;\n",
       "    }\n",
       "\n",
       "    .dataframe thead th {\n",
       "        text-align: right;\n",
       "    }\n",
       "</style>\n",
       "<table border=\"1\" class=\"dataframe\">\n",
       "  <thead>\n",
       "    <tr style=\"text-align: right;\">\n",
       "      <th></th>\n",
       "      <th>display_name</th>\n",
       "      <th>doi</th>\n",
       "      <th>abstract_text</th>\n",
       "      <th>Title_abstract</th>\n",
       "      <th>topics</th>\n",
       "    </tr>\n",
       "  </thead>\n",
       "  <tbody>\n",
       "    <tr>\n",
       "      <th>0</th>\n",
       "      <td>Performance of ChatGPT on USMLE: Potential for...</td>\n",
       "      <td>https://doi.org/10.1371/journal.pdig.0000198</td>\n",
       "      <td>We evaluated the performance of a large langua...</td>\n",
       "      <td>Performance of ChatGPT on USMLE: Potential for...</td>\n",
       "      <td>18</td>\n",
       "    </tr>\n",
       "    <tr>\n",
       "      <th>1</th>\n",
       "      <td>How Does ChatGPT Perform on the United States ...</td>\n",
       "      <td>https://doi.org/10.2196/45312</td>\n",
       "      <td>Background Chat Generative Pre-trained Transfo...</td>\n",
       "      <td>How Does ChatGPT Perform on the United States ...</td>\n",
       "      <td>157</td>\n",
       "    </tr>\n",
       "    <tr>\n",
       "      <th>2</th>\n",
       "      <td>ChatGPT and the Future of Medical Writing</td>\n",
       "      <td>https://doi.org/10.1148/radiol.223312</td>\n",
       "      <td>HomeRadiologyVol. 307, No. 2 PreviousNext Revi...</td>\n",
       "      <td>ChatGPT and the Future of Medical Writing</td>\n",
       "      <td>35</td>\n",
       "    </tr>\n",
       "    <tr>\n",
       "      <th>3</th>\n",
       "      <td>Performance of ChatGPT on USMLE: Potential for...</td>\n",
       "      <td>https://doi.org/10.1101/2022.12.19.22283643</td>\n",
       "      <td>ABSTRACT We evaluated the performance of a lar...</td>\n",
       "      <td>Performance of ChatGPT on USMLE: Potential for...</td>\n",
       "      <td>18</td>\n",
       "    </tr>\n",
       "    <tr>\n",
       "      <th>4</th>\n",
       "      <td>The Role of ChatGPT, Generative Language Model...</td>\n",
       "      <td>https://doi.org/10.2196/46885</td>\n",
       "      <td>ChatGPT is a generative language model tool la...</td>\n",
       "      <td>The Role of ChatGPT, Generative Language Model...</td>\n",
       "      <td>18</td>\n",
       "    </tr>\n",
       "    <tr>\n",
       "      <th>...</th>\n",
       "      <td>...</td>\n",
       "      <td>...</td>\n",
       "      <td>...</td>\n",
       "      <td>...</td>\n",
       "      <td>...</td>\n",
       "    </tr>\n",
       "    <tr>\n",
       "      <th>17961</th>\n",
       "      <td>Applying GPT-4 to the Plastic Surgery Inservic...</td>\n",
       "      <td>https://doi.org/10.1016/j.bjps.2023.09.027</td>\n",
       "      <td>The recent introduction of Generative Pre-trai...</td>\n",
       "      <td>Applying GPT-4 to the Plastic Surgery Inservic...</td>\n",
       "      <td>93</td>\n",
       "    </tr>\n",
       "    <tr>\n",
       "      <th>17962</th>\n",
       "      <td>ChatGPT for low- and middle-income countries: ...</td>\n",
       "      <td>https://doi.org/10.1016/j.lanwpc.2023.100906</td>\n",
       "      <td>ChatGPT (OpenAI, San Francisco, CA, USA) has m...</td>\n",
       "      <td>ChatGPT for low- and middle-income countries: ...</td>\n",
       "      <td>33</td>\n",
       "    </tr>\n",
       "    <tr>\n",
       "      <th>17963</th>\n",
       "      <td>Interpretable Disease Prediction via Path Reas...</td>\n",
       "      <td>https://doi.org/10.1016/j.knosys.2023.111082</td>\n",
       "      <td>Disease prediction based on patients’ historic...</td>\n",
       "      <td>Interpretable Disease Prediction via Path Reas...</td>\n",
       "      <td>54</td>\n",
       "    </tr>\n",
       "    <tr>\n",
       "      <th>17964</th>\n",
       "      <td>ChatGPT (Generated Pre-Trained Transformer) As...</td>\n",
       "      <td>https://doi.org/10.23937/2572-4037.1510062</td>\n",
       "      <td>Mental health disorders affect one in four peo...</td>\n",
       "      <td>ChatGPT (Generated Pre-Trained Transformer) As...</td>\n",
       "      <td>74</td>\n",
       "    </tr>\n",
       "    <tr>\n",
       "      <th>17965</th>\n",
       "      <td>4 The Third Vector: Pacific Pathogens, Colonia...</td>\n",
       "      <td>https://doi.org/10.1515/9780824892258-007</td>\n",
       "      <td></td>\n",
       "      <td>4 The Third Vector: Pacific Pathogens, Colonia...</td>\n",
       "      <td>25</td>\n",
       "    </tr>\n",
       "  </tbody>\n",
       "</table>\n",
       "<p>17966 rows × 5 columns</p>\n",
       "</div>"
      ],
      "text/plain": [
       "                                            display_name  \\\n",
       "0      Performance of ChatGPT on USMLE: Potential for...   \n",
       "1      How Does ChatGPT Perform on the United States ...   \n",
       "2              ChatGPT and the Future of Medical Writing   \n",
       "3      Performance of ChatGPT on USMLE: Potential for...   \n",
       "4      The Role of ChatGPT, Generative Language Model...   \n",
       "...                                                  ...   \n",
       "17961  Applying GPT-4 to the Plastic Surgery Inservic...   \n",
       "17962  ChatGPT for low- and middle-income countries: ...   \n",
       "17963  Interpretable Disease Prediction via Path Reas...   \n",
       "17964  ChatGPT (Generated Pre-Trained Transformer) As...   \n",
       "17965  4 The Third Vector: Pacific Pathogens, Colonia...   \n",
       "\n",
       "                                                doi  \\\n",
       "0      https://doi.org/10.1371/journal.pdig.0000198   \n",
       "1                     https://doi.org/10.2196/45312   \n",
       "2             https://doi.org/10.1148/radiol.223312   \n",
       "3       https://doi.org/10.1101/2022.12.19.22283643   \n",
       "4                     https://doi.org/10.2196/46885   \n",
       "...                                             ...   \n",
       "17961    https://doi.org/10.1016/j.bjps.2023.09.027   \n",
       "17962  https://doi.org/10.1016/j.lanwpc.2023.100906   \n",
       "17963  https://doi.org/10.1016/j.knosys.2023.111082   \n",
       "17964    https://doi.org/10.23937/2572-4037.1510062   \n",
       "17965     https://doi.org/10.1515/9780824892258-007   \n",
       "\n",
       "                                           abstract_text  \\\n",
       "0      We evaluated the performance of a large langua...   \n",
       "1      Background Chat Generative Pre-trained Transfo...   \n",
       "2      HomeRadiologyVol. 307, No. 2 PreviousNext Revi...   \n",
       "3      ABSTRACT We evaluated the performance of a lar...   \n",
       "4      ChatGPT is a generative language model tool la...   \n",
       "...                                                  ...   \n",
       "17961  The recent introduction of Generative Pre-trai...   \n",
       "17962  ChatGPT (OpenAI, San Francisco, CA, USA) has m...   \n",
       "17963  Disease prediction based on patients’ historic...   \n",
       "17964  Mental health disorders affect one in four peo...   \n",
       "17965                                                      \n",
       "\n",
       "                                          Title_abstract  topics  \n",
       "0      Performance of ChatGPT on USMLE: Potential for...      18  \n",
       "1      How Does ChatGPT Perform on the United States ...     157  \n",
       "2              ChatGPT and the Future of Medical Writing      35  \n",
       "3      Performance of ChatGPT on USMLE: Potential for...      18  \n",
       "4      The Role of ChatGPT, Generative Language Model...      18  \n",
       "...                                                  ...     ...  \n",
       "17961  Applying GPT-4 to the Plastic Surgery Inservic...      93  \n",
       "17962  ChatGPT for low- and middle-income countries: ...      33  \n",
       "17963  Interpretable Disease Prediction via Path Reas...      54  \n",
       "17964  ChatGPT (Generated Pre-Trained Transformer) As...      74  \n",
       "17965  4 The Third Vector: Pacific Pathogens, Colonia...      25  \n",
       "\n",
       "[17966 rows x 5 columns]"
      ]
     },
     "execution_count": 13,
     "metadata": {},
     "output_type": "execute_result"
    }
   ],
   "source": [
    "abstract_df"
   ]
  },
  {
   "cell_type": "code",
   "execution_count": 14,
   "id": "4628e4a1",
   "metadata": {},
   "outputs": [
    {
     "data": {
      "text/html": [
       "<div>\n",
       "<style scoped>\n",
       "    .dataframe tbody tr th:only-of-type {\n",
       "        vertical-align: middle;\n",
       "    }\n",
       "\n",
       "    .dataframe tbody tr th {\n",
       "        vertical-align: top;\n",
       "    }\n",
       "\n",
       "    .dataframe thead th {\n",
       "        text-align: right;\n",
       "    }\n",
       "</style>\n",
       "<table border=\"1\" class=\"dataframe\">\n",
       "  <thead>\n",
       "    <tr style=\"text-align: right;\">\n",
       "      <th></th>\n",
       "      <th>Topic</th>\n",
       "      <th>Count</th>\n",
       "      <th>Name</th>\n",
       "      <th>Representation</th>\n",
       "      <th>Representative_Docs</th>\n",
       "    </tr>\n",
       "  </thead>\n",
       "  <tbody>\n",
       "    <tr>\n",
       "      <th>0</th>\n",
       "      <td>0</td>\n",
       "      <td>278</td>\n",
       "      <td>0_chatgpt_chatgpts_medical_questions</td>\n",
       "      <td>[chatgpt, chatgpts, medical, questions, utilit...</td>\n",
       "      <td>[Correspondence on Letter 2 regarding “Assessi...</td>\n",
       "    </tr>\n",
       "    <tr>\n",
       "      <th>1</th>\n",
       "      <td>1</td>\n",
       "      <td>240</td>\n",
       "      <td>1_growth_fish_dietary_juvenile</td>\n",
       "      <td>[growth, fish, dietary, juvenile, tilapia, nil...</td>\n",
       "      <td>[Mango pulp meal in diets for Nile tilapia (Or...</td>\n",
       "    </tr>\n",
       "    <tr>\n",
       "      <th>2</th>\n",
       "      <td>2</td>\n",
       "      <td>237</td>\n",
       "      <td>2_ai_intelligence_artificial_climate</td>\n",
       "      <td>[ai, intelligence, artificial, climate, cybers...</td>\n",
       "      <td>[Artificial intelligence, Is this artificial i...</td>\n",
       "    </tr>\n",
       "    <tr>\n",
       "      <th>3</th>\n",
       "      <td>3</td>\n",
       "      <td>222</td>\n",
       "      <td>3_gags_gag_welcome_</td>\n",
       "      <td>[gags, gag, welcome, , , , , , , ]</td>\n",
       "      <td>[Welcome, GAG, GAGs]</td>\n",
       "    </tr>\n",
       "    <tr>\n",
       "      <th>4</th>\n",
       "      <td>4</td>\n",
       "      <td>219</td>\n",
       "      <td>4_colombia_mxico_en_el</td>\n",
       "      <td>[colombia, mxico, en, el, la, las, salud, del,...</td>\n",
       "      <td>[Una clasificación de las modalidades de vulne...</td>\n",
       "    </tr>\n",
       "    <tr>\n",
       "      <th>...</th>\n",
       "      <td>...</td>\n",
       "      <td>...</td>\n",
       "      <td>...</td>\n",
       "      <td>...</td>\n",
       "      <td>...</td>\n",
       "    </tr>\n",
       "    <tr>\n",
       "      <th>195</th>\n",
       "      <td>195</td>\n",
       "      <td>17</td>\n",
       "      <td>195_gastrointestinaltrakt_gastrinstimulationst...</td>\n",
       "      <td>[gastrointestinaltrakt, gastrinstimulationstes...</td>\n",
       "      <td>[Gastrin nach Sekretinstimulation, Proceedings...</td>\n",
       "    </tr>\n",
       "    <tr>\n",
       "      <th>196</th>\n",
       "      <td>196</td>\n",
       "      <td>16</td>\n",
       "      <td>196_issue_information_bwhole_acknowledgments</td>\n",
       "      <td>[issue, information, bwhole, acknowledgments, ...</td>\n",
       "      <td>[Issue Information, Issue Information, Issue I...</td>\n",
       "    </tr>\n",
       "    <tr>\n",
       "      <th>197</th>\n",
       "      <td>197</td>\n",
       "      <td>15</td>\n",
       "      <td>197_covid19___</td>\n",
       "      <td>[covid19, , , , , , , , , ]</td>\n",
       "      <td>[Клінічні настанови з оцінки потенційно злоякі...</td>\n",
       "    </tr>\n",
       "    <tr>\n",
       "      <th>198</th>\n",
       "      <td>198</td>\n",
       "      <td>15</td>\n",
       "      <td>198_index_author_page_geindex</td>\n",
       "      <td>[index, author, page, geindex, eumc, educon, s...</td>\n",
       "      <td>[Index, Index, Index]</td>\n",
       "    </tr>\n",
       "    <tr>\n",
       "      <th>199</th>\n",
       "      <td>199</td>\n",
       "      <td>11</td>\n",
       "      <td>199_reply_rc2_rc1_raubitschek</td>\n",
       "      <td>[reply, rc2, rc1, raubitschek, kenney, helfat,...</td>\n",
       "      <td>[Reply, Reply, Reply]</td>\n",
       "    </tr>\n",
       "  </tbody>\n",
       "</table>\n",
       "<p>200 rows × 5 columns</p>\n",
       "</div>"
      ],
      "text/plain": [
       "     Topic  Count                                               Name  \\\n",
       "0        0    278               0_chatgpt_chatgpts_medical_questions   \n",
       "1        1    240                     1_growth_fish_dietary_juvenile   \n",
       "2        2    237               2_ai_intelligence_artificial_climate   \n",
       "3        3    222                                3_gags_gag_welcome_   \n",
       "4        4    219                             4_colombia_mxico_en_el   \n",
       "..     ...    ...                                                ...   \n",
       "195    195     17  195_gastrointestinaltrakt_gastrinstimulationst...   \n",
       "196    196     16       196_issue_information_bwhole_acknowledgments   \n",
       "197    197     15                                     197_covid19___   \n",
       "198    198     15                      198_index_author_page_geindex   \n",
       "199    199     11                      199_reply_rc2_rc1_raubitschek   \n",
       "\n",
       "                                        Representation  \\\n",
       "0    [chatgpt, chatgpts, medical, questions, utilit...   \n",
       "1    [growth, fish, dietary, juvenile, tilapia, nil...   \n",
       "2    [ai, intelligence, artificial, climate, cybers...   \n",
       "3                   [gags, gag, welcome, , , , , , , ]   \n",
       "4    [colombia, mxico, en, el, la, las, salud, del,...   \n",
       "..                                                 ...   \n",
       "195  [gastrointestinaltrakt, gastrinstimulationstes...   \n",
       "196  [issue, information, bwhole, acknowledgments, ...   \n",
       "197                        [covid19, , , , , , , , , ]   \n",
       "198  [index, author, page, geindex, eumc, educon, s...   \n",
       "199  [reply, rc2, rc1, raubitschek, kenney, helfat,...   \n",
       "\n",
       "                                   Representative_Docs  \n",
       "0    [Correspondence on Letter 2 regarding “Assessi...  \n",
       "1    [Mango pulp meal in diets for Nile tilapia (Or...  \n",
       "2    [Artificial intelligence, Is this artificial i...  \n",
       "3                                 [Welcome, GAG, GAGs]  \n",
       "4    [Una clasificación de las modalidades de vulne...  \n",
       "..                                                 ...  \n",
       "195  [Gastrin nach Sekretinstimulation, Proceedings...  \n",
       "196  [Issue Information, Issue Information, Issue I...  \n",
       "197  [Клінічні настанови з оцінки потенційно злоякі...  \n",
       "198                              [Index, Index, Index]  \n",
       "199                              [Reply, Reply, Reply]  \n",
       "\n",
       "[200 rows x 5 columns]"
      ]
     },
     "execution_count": 14,
     "metadata": {},
     "output_type": "execute_result"
    }
   ],
   "source": [
    "# show topics info\n",
    "topic_model.get_topic_info()"
   ]
  },
  {
   "cell_type": "code",
   "execution_count": 15,
   "id": "57d92ccd",
   "metadata": {},
   "outputs": [],
   "source": [
    "topic_model.get_topic_info().to_csv(data_export_path+\"/LLM_openalex_title_topics_metadata_200.csv\",index=False)"
   ]
  },
  {
   "cell_type": "code",
   "execution_count": 16,
   "id": "525ffa6a",
   "metadata": {},
   "outputs": [],
   "source": [
    "# show Topic Positions -> suggestions for further clustering\n",
    "#topic_model.visualize_topics()\n",
    "fig_IDM = topic_model.visualize_topics()\n",
    "fig_IDM.write_html(result_path+\"/LLM_openalex_title_viz_IDM_200.html\")"
   ]
  },
  {
   "cell_type": "code",
   "execution_count": 17,
   "id": "78f4ac91",
   "metadata": {},
   "outputs": [],
   "source": [
    "# visualize Topic Hierarchy -> suggestions for further clustering\n",
    "fig_hierarchy = topic_model.visualize_hierarchy()\n",
    "fig_hierarchy.write_html(result_path+\"/LLM_openalex_title_viz_hierarchy_200.html\")"
   ]
  },
  {
   "cell_type": "code",
   "execution_count": 18,
   "id": "c26055ed",
   "metadata": {},
   "outputs": [],
   "source": [
    "# visualize words\n",
    "fig_topic_word_scores = topic_model.visualize_barchart(top_n_topics=32)\n",
    "fig_topic_word_scores.write_html(result_path+\"/LLM_openalex_title_viz_topic_word_scores_200.html\")"
   ]
  },
  {
   "cell_type": "code",
   "execution_count": 19,
   "id": "9ef1ae66",
   "metadata": {},
   "outputs": [],
   "source": [
    "# visualize topic similarity -- not useful in our case, maybe include to show not correlated\n",
    "fig_heatmap = topic_model.visualize_heatmap()\n",
    "fig_heatmap.write_html(result_path+\"/LLM_openalex_title_viz_heatmap_200.html\")"
   ]
  },
  {
   "cell_type": "code",
   "execution_count": 20,
   "id": "7ef4e2c9",
   "metadata": {},
   "outputs": [],
   "source": [
    "# visualize documents\n",
    "sentence_model = SentenceTransformer(\"all-MiniLM-L6-v2\")\n",
    "embeddings = sentence_model.encode(docs, show_progress_bar=False)\n",
    "# Run the visualization with the original embeddings\n",
    "topic_model.visualize_documents(docs, embeddings=embeddings)\n",
    "# Reduce dimensionality of embeddings, this step is optional but much faster to perform iteratively:\n",
    "reduced_embeddings = UMAP(n_neighbors=10, n_components=2, min_dist=0.0, metric='cosine').fit_transform(embeddings)\n",
    "# save embeddings (for Tableau)\n",
    "abstract_df[\"x\"] = reduced_embeddings[:, 0]\n",
    "abstract_df[\"y\"] = reduced_embeddings[:, 1]\n"
   ]
  },
  {
   "cell_type": "code",
   "execution_count": 21,
   "id": "f9b96345",
   "metadata": {},
   "outputs": [],
   "source": [
    "import pickle\n",
    "with open(result_path+'/LLM_openalex_title_embeddings_200.pickle', 'wb') as pkl:\n",
    "    pickle.dump(embeddings, pkl)"
   ]
  },
  {
   "cell_type": "code",
   "execution_count": 22,
   "id": "6b52686d",
   "metadata": {},
   "outputs": [],
   "source": [
    "abstract_df.to_csv(data_export_path+\"/LLM_openalex_title_w_topics_years_positions_200.csv\",index=False)"
   ]
  },
  {
   "cell_type": "code",
   "execution_count": null,
   "id": "8f3e20af",
   "metadata": {},
   "outputs": [],
   "source": []
  }
 ],
 "metadata": {
  "kernelspec": {
   "display_name": "Python 3 (ipykernel)",
   "language": "python",
   "name": "python3"
  },
  "language_info": {
   "codemirror_mode": {
    "name": "ipython",
    "version": 3
   },
   "file_extension": ".py",
   "mimetype": "text/x-python",
   "name": "python",
   "nbconvert_exporter": "python",
   "pygments_lexer": "ipython3",
   "version": "3.10.13"
  }
 },
 "nbformat": 4,
 "nbformat_minor": 5
}
