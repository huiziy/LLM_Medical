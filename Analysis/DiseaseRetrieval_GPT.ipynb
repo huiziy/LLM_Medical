{
 "cells": [
  {
   "cell_type": "code",
   "execution_count": 1,
   "metadata": {},
   "outputs": [],
   "source": [
    "import pandas as pd\n",
    "import os\n",
    "import time\n",
    "import openai\n",
    "import pandas as pd\n",
    "import warnings\n",
    "import re\n",
    "\n",
    "warnings.filterwarnings('ignore')\n",
    "\n",
    "PATH_data_export = \"/Users/huiziyu/Library/CloudStorage/GoogleDrive-huiziy@g.ucla.edu/My Drive/Project - LLM Bib in Biomedical & Health/data/processed\"\n",
    "df = pd.read_csv(f'{PATH_data_export}/relevant_data_gpt.csv')"
   ]
  },
  {
   "cell_type": "code",
   "execution_count": 16,
   "metadata": {},
   "outputs": [],
   "source": [
    "def gpt_prompt(text):\n",
    "    prompt = \"\"\"You are a public health and medical policy analyst.\n",
    "    Please provide the names of disease, disorder, health symptom, public health crisis, and diagnostic tests in the following text.\n",
    "    Please only provide all the names without reasoning.\n",
    "    If there is no such name, please say \"None mentioned\".\n",
    "    The text is:\n",
    "    \"\"\"\n",
    "    result = prompt+\"\\n\"+text\n",
    "    return result"
   ]
  },
  {
   "cell_type": "code",
   "execution_count": 17,
   "metadata": {},
   "outputs": [],
   "source": [
    "from openai._client import OpenAI\n",
    "\n",
    "SECRET_FILE = '../../secrets.txt'\n",
    "with open('../../secrets.txt') as f:\n",
    "    lines = f.readlines()\n",
    "    for line in lines:\n",
    "        if line.split(',')[0].strip() == \"open_ai_key\":\n",
    "            open_ai_key = line.split(',')[1].strip()\n",
    "\n",
    "openai_client = OpenAI(api_key=open_ai_key)\n",
    "\n",
    "# GPT models (GPT-3.5 and GPT-4)\n",
    "def run_gpt(text_prompt, max_tokens_to_sample: int = 3000, temperature: float = 0, client=openai_client, model = \"gpt-3.5-turbo\"):\n",
    "    # use gpt-3.5-turbo unless specify gpt-4\n",
    "    response = client.chat.completions.create(\n",
    "      model = model, \n",
    "      messages=[\n",
    "        {\"role\": \"user\", \"content\": text_prompt},\n",
    "      ],\n",
    "      temperature=temperature,\n",
    "      max_tokens=max_tokens_to_sample\n",
    "    )\n",
    "    return response.choices[0].message.content"
   ]
  },
  {
   "cell_type": "code",
   "execution_count": 32,
   "metadata": {},
   "outputs": [],
   "source": [
    "ID = 0\n",
    "results_df = pd.DataFrame(columns=['ID', 'Original_Text', 'GPT_Results'])\n",
    "for text in df.Title_abstract:\n",
    "    #print(text)\n",
    "    text_prompt = gpt_prompt(text)\n",
    "    if len(text_prompt) > 2000:\n",
    "        text_prompt = text_prompt[:2000]\n",
    "    result = run_gpt(text_prompt)\n",
    "    results_df = results_df._append({'ID': ID, 'Original_Text': text, 'GPT_Results': result}, ignore_index=True)\n",
    "    ID += 1"
   ]
  },
  {
   "cell_type": "code",
   "execution_count": 33,
   "metadata": {},
   "outputs": [
    {
     "data": {
      "text/plain": [
       "0       disease: None mentioned\\ndisorder: None mentio...\n",
       "1                                         None mentioned.\n",
       "2       disease: None mentioned\\ndisorder: None mentio...\n",
       "3       Names of disease: None mentioned\\nNames of dis...\n",
       "4       Disease: None mentioned\\nDisorder: None mentio...\n",
       "                              ...                        \n",
       "1442                                      None mentioned.\n",
       "1443    Disease: musculoskeletal disorders, lower back...\n",
       "1444    Disease: None mentioned\\nDisorder: None mentio...\n",
       "1445    Disease: Epilepsy\\nDisorder: None mentioned\\nH...\n",
       "1446    disease: mental health disorders\\ndisorder: me...\n",
       "Name: GPT_Results, Length: 1447, dtype: object"
      ]
     },
     "execution_count": 33,
     "metadata": {},
     "output_type": "execute_result"
    }
   ],
   "source": [
    "results_df[\"GPT_Results\"]"
   ]
  },
  {
   "cell_type": "code",
   "execution_count": 34,
   "metadata": {},
   "outputs": [],
   "source": [
    "import pandas as pd\n",
    "import re\n",
    "\n",
    "def extract_entities(text, entity_name):\n",
    "    \"\"\"\n",
    "    Extracts entities (like Disease, Disorder, etc.) from the text.\n",
    "    \n",
    "    Parameters:\n",
    "    text (str): The text from which to extract the entity.\n",
    "    entity_name (str): The name of the entity (e.g., \"Disease\").\n",
    "\n",
    "    Returns:\n",
    "    str: The extracted entity or 'None mentioned' if not found.\n",
    "    \"\"\"\n",
    "    pattern = fr\"{entity_name}: (.*?)\\n\"\n",
    "    match = re.search(pattern, text)\n",
    "    return match.group(1) if match else \"none mentioned\"\n",
    "\n",
    "# Assuming df is your DataFrame with a column 'Original_Text'\n",
    "entities = ['disease', 'disorder', 'health symptom', 'public health crisis', \"diagnostic tests\"]\n",
    "\n",
    "# Applying the function to each row and entity\n",
    "for entity in entities:\n",
    "    results_df[entity] = results_df['GPT_Results'].apply(lambda text: extract_entities(text.lower(), entity))"
   ]
  },
  {
   "cell_type": "code",
   "execution_count": 38,
   "metadata": {},
   "outputs": [
    {
     "data": {
      "text/plain": [
       "disease\n",
       "none mentioned                                                                  1149\n",
       "covid-19                                                                          36\n",
       "cancer                                                                            12\n",
       "depression                                                                         6\n",
       "breast cancer                                                                      6\n",
       "                                                                                ... \n",
       "non-communicable diseases, obesity, cardiovascular diseases, type-2 diabetes       1\n",
       "headache                                                                           1\n",
       "cardiovascular disease                                                             1\n",
       "liver disease, hepatitis b, hepatocellular carcinoma (hcc)                         1\n",
       "infectious diseases                                                                1\n",
       "Name: count, Length: 195, dtype: int64"
      ]
     },
     "execution_count": 38,
     "metadata": {},
     "output_type": "execute_result"
    }
   ],
   "source": [
    "results_df.columns = [column.replace(' ', '_') for column in results_df.columns]\n",
    "results_df.disease.value_counts()"
   ]
  },
  {
   "cell_type": "code",
   "execution_count": 37,
   "metadata": {},
   "outputs": [
    {
     "data": {
      "text/plain": [
       "disease\n",
       "none mentioned                                                                  1149\n",
       "covid-19                                                                          36\n",
       "cancer                                                                            12\n",
       "depression                                                                         6\n",
       "breast cancer                                                                      6\n",
       "                                                                                ... \n",
       "non-communicable diseases, obesity, cardiovascular diseases, type-2 diabetes       1\n",
       "headache                                                                           1\n",
       "cardiovascular disease                                                             1\n",
       "liver disease, hepatitis b, hepatocellular carcinoma (hcc)                         1\n",
       "infectious diseases                                                                1\n",
       "Name: count, Length: 195, dtype: int64"
      ]
     },
     "execution_count": 37,
     "metadata": {},
     "output_type": "execute_result"
    }
   ],
   "source": [
    "results_df.disease.value_counts()"
   ]
  },
  {
   "cell_type": "code",
   "execution_count": 36,
   "metadata": {},
   "outputs": [],
   "source": [
    "results_df.to_csv(f'{PATH_data_export}/disease_extraction_gpt_results.csv', index=False)\n",
    "results_df.to_excel(f'{PATH_data_export}/disease_extraction_gpt_results.xlsx', index=False)"
   ]
  }
 ],
 "metadata": {
  "kernelspec": {
   "display_name": "stats",
   "language": "python",
   "name": "python3"
  },
  "language_info": {
   "codemirror_mode": {
    "name": "ipython",
    "version": 3
   },
   "file_extension": ".py",
   "mimetype": "text/x-python",
   "name": "python",
   "nbconvert_exporter": "python",
   "pygments_lexer": "ipython3",
   "version": "3.9.0"
  }
 },
 "nbformat": 4,
 "nbformat_minor": 2
}
