{
 "cells": [
  {
   "cell_type": "code",
   "execution_count": 3,
   "id": "542659e8",
   "metadata": {},
   "outputs": [],
   "source": [
    "import pandas as pd\n",
    "import numpy as np\n",
    "import os"
   ]
  },
  {
   "cell_type": "markdown",
   "id": "20f8b702",
   "metadata": {},
   "source": [
    "## Set Path"
   ]
  },
  {
   "cell_type": "code",
   "execution_count": 4,
   "id": "66955960",
   "metadata": {},
   "outputs": [],
   "source": [
    "LF_result_path = \"\"\n",
    "LF_export_path = \"\"\n",
    "HY_result_path = \"/Users/huiziyu/Library/CloudStorage/GoogleDrive-huiziy@g.ucla.edu/My Drive/Project - LLM in Biomedical & Health/new/results/\"\n",
    "HY_export_path = \"/Users/huiziyu/Library/CloudStorage/GoogleDrive-huiziy@g.ucla.edu/My Drive/Project - LLM in Biomedical & Health/new/results/\"\n",
    "HY_import_path = \"/Users/huiziyu/Library/CloudStorage/GoogleDrive-huiziy@g.ucla.edu/My Drive/Project - LLM in Biomedical & Health/new_data/processed/\""
   ]
  },
  {
   "cell_type": "code",
   "execution_count": 5,
   "id": "2cf5f0c8-4f91-4777-90fc-d55648dc7461",
   "metadata": {},
   "outputs": [],
   "source": [
    "result_path = HY_result_path\n",
    "data_export_path = HY_export_path\n",
    "data_import_path = HY_import_path"
   ]
  },
  {
   "cell_type": "code",
   "execution_count": 6,
   "id": "42c9f434",
   "metadata": {},
   "outputs": [],
   "source": [
    "df = pd.read_csv(data_import_path+\"output_data_en.csv\")"
   ]
  },
  {
   "cell_type": "code",
   "execution_count": 7,
   "id": "6cfdf4b4",
   "metadata": {},
   "outputs": [],
   "source": [
    "# replace na with \"\"\n",
    "df.fillna(\"\",inplace=True)"
   ]
  },
  {
   "cell_type": "code",
   "execution_count": 8,
   "id": "2285d9ac",
   "metadata": {},
   "outputs": [],
   "source": [
    "abstract_df = df[['display_name','doi','abstract_text']].reset_index(drop=True)"
   ]
  },
  {
   "cell_type": "code",
   "execution_count": 9,
   "id": "8300ac63",
   "metadata": {},
   "outputs": [],
   "source": [
    "# We use title and abstract, as well focus on sentence-line context aware info, not keywords.\n",
    "abstract_df[\"Title_abstract\"] = abstract_df[\"display_name\"]+\". \"+abstract_df[\"abstract_text\"]\n",
    "# now titel only\n",
    "abstract_df[\"Title_abstract\"] = abstract_df[\"display_name\"]"
   ]
  },
  {
   "cell_type": "markdown",
   "id": "4f390956",
   "metadata": {},
   "source": [
    "### Topic Modeling"
   ]
  },
  {
   "cell_type": "code",
   "execution_count": null,
   "id": "c9e57938-77d8-41b4-8ed6-47dde6998a3f",
   "metadata": {},
   "outputs": [],
   "source": [
    "!pip install sentence_transformers\n",
    "!pip install umap\n",
    "!pip install sklearn\n",
    "!pip instlal hdbscan"
   ]
  },
  {
   "cell_type": "code",
   "execution_count": 11,
   "id": "f0131856",
   "metadata": {},
   "outputs": [
    {
     "name": "stderr",
     "output_type": "stream",
     "text": [
      "/Users/huiziyu/opt/anaconda3/envs/myenv/lib/python3.8/site-packages/tqdm/auto.py:21: TqdmWarning: IProgress not found. Please update jupyter and ipywidgets. See https://ipywidgets.readthedocs.io/en/stable/user_install.html\n",
      "  from .autonotebook import tqdm as notebook_tqdm\n"
     ]
    }
   ],
   "source": [
    "from bertopic import BERTopic\n",
    "from sentence_transformers import SentenceTransformer\n",
    "from umap import UMAP\n",
    "from sklearn.feature_extraction.text import CountVectorizer\n",
    "from hdbscan import HDBSCAN\n",
    "from sklearn.cluster import KMeans"
   ]
  },
  {
   "cell_type": "code",
   "execution_count": 12,
   "id": "b8e05213",
   "metadata": {},
   "outputs": [],
   "source": [
    "docs = [str(item) for item in list(abstract_df.Title_abstract)]"
   ]
  },
  {
   "cell_type": "markdown",
   "id": "a71e809f",
   "metadata": {},
   "source": [
    "## Add additional stopwords based on the query"
   ]
  },
  {
   "cell_type": "code",
   "execution_count": 13,
   "id": "aee5da69",
   "metadata": {},
   "outputs": [],
   "source": [
    "from sklearn.feature_extraction.text import CountVectorizer\n",
    "from sklearn.feature_extraction.text import ENGLISH_STOP_WORDS\n",
    "\n",
    "# Your additional stop words\n",
    "additional_stop_words = {'large language model', 'GPT', 'ChatGPT', 'Llama', 'Google Palm', 'Anthropic Claude', 'health', 'medical'}\n",
    "\n",
    "# Combine default English stop words with your additional ones\n",
    "custom_stop_words = ENGLISH_STOP_WORDS.union(additional_stop_words)"
   ]
  },
  {
   "cell_type": "code",
   "execution_count": null,
   "id": "577f2ce8",
   "metadata": {},
   "outputs": [],
   "source": [
    "# [TODO 1] need to consider remove query keywords\n",
    "# [TODO 2] remove non-English\n",
    "# [TODO 3] cluster number: more experiments [20, 30, 40, 50, 100, 150, 200]\n",
    "# 200 too many\n",
    "vectorizer_model = CountVectorizer(stop_words=custom_stop_words)\n",
    "# hdbscan_model = HDBSCAN(min_cluster_size=10,\n",
    "#                         min_samples=5,\n",
    "#                         metric='euclidean',\n",
    "#                         cluster_selection_method='eom',\n",
    "#                         prediction_data=True) # random_state=42\n",
    "cluster_model = KMeans(n_clusters=200)\n",
    "topic_model = BERTopic(hdbscan_model=cluster_model, #hdbscan_model,\n",
    "                       vectorizer_model=vectorizer_model,\n",
    "                       top_n_words=10) # nr_topics=100,\n",
    "topics, probs = topic_model.fit_transform(docs)"
   ]
  },
  {
   "cell_type": "code",
   "execution_count": null,
   "id": "51c7664e",
   "metadata": {},
   "outputs": [],
   "source": [
    "topic_model.save(result_path+\"/LLM_title_200\")"
   ]
  },
  {
   "cell_type": "code",
   "execution_count": null,
   "id": "59159644",
   "metadata": {},
   "outputs": [],
   "source": [
    "abstract_df[\"topics\"] = topics"
   ]
  },
  {
   "cell_type": "code",
   "execution_count": null,
   "id": "d80acec7",
   "metadata": {},
   "outputs": [],
   "source": [
    "abstract_df"
   ]
  },
  {
   "cell_type": "code",
   "execution_count": null,
   "id": "4628e4a1",
   "metadata": {},
   "outputs": [],
   "source": [
    "# show topics info\n",
    "topic_model.get_topic_info()"
   ]
  },
  {
   "cell_type": "code",
   "execution_count": 15,
   "id": "57d92ccd",
   "metadata": {},
   "outputs": [],
   "source": [
    "topic_model.get_topic_info().to_csv(data_export_path+\"/LLM_en_openalex_title_topics_metadata_200.csv\",index=False)"
   ]
  },
  {
   "cell_type": "code",
   "execution_count": 16,
   "id": "525ffa6a",
   "metadata": {},
   "outputs": [],
   "source": [
    "# show Topic Positions -> suggestions for further clustering\n",
    "#topic_model.visualize_topics()\n",
    "fig_IDM = topic_model.visualize_topics()\n",
    "fig_IDM.write_html(result_path+\"/LLM_en_openalex_title_viz_IDM_200.html\")"
   ]
  },
  {
   "cell_type": "code",
   "execution_count": 17,
   "id": "78f4ac91",
   "metadata": {},
   "outputs": [],
   "source": [
    "# visualize Topic Hierarchy -> suggestions for further clustering\n",
    "fig_hierarchy = topic_model.visualize_hierarchy()\n",
    "fig_hierarchy.write_html(result_path+\"/LLM_en_openalex_title_viz_hierarchy_200.html\")"
   ]
  },
  {
   "cell_type": "code",
   "execution_count": 18,
   "id": "c26055ed",
   "metadata": {},
   "outputs": [],
   "source": [
    "# visualize words\n",
    "fig_topic_word_scores = topic_model.visualize_barchart(top_n_topics=32)\n",
    "fig_topic_word_scores.write_html(result_path+\"/LLM_en_openalex_title_viz_topic_word_scores_200.html\")"
   ]
  },
  {
   "cell_type": "code",
   "execution_count": 19,
   "id": "9ef1ae66",
   "metadata": {},
   "outputs": [],
   "source": [
    "# visualize topic similarity -- not useful in our case, maybe include to show not correlated\n",
    "fig_heatmap = topic_model.visualize_heatmap()\n",
    "fig_heatmap.write_html(result_path+\"/LLM_en_openalex_title_viz_heatmap_200.html\")"
   ]
  },
  {
   "cell_type": "code",
   "execution_count": 20,
   "id": "7ef4e2c9",
   "metadata": {},
   "outputs": [],
   "source": [
    "# visualize documents\n",
    "sentence_model = SentenceTransformer(\"all-MiniLM-L6-v2\")\n",
    "embeddings = sentence_model.encode(docs, show_progress_bar=False)\n",
    "# Run the visualization with the original embeddings\n",
    "topic_model.visualize_documents(docs, embeddings=embeddings)\n",
    "# Reduce dimensionality of embeddings, this step is optional but much faster to perform iteratively:\n",
    "reduced_embeddings = UMAP(n_neighbors=10, n_components=2, min_dist=0.0, metric='cosine').fit_transform(embeddings)\n",
    "# save embeddings (for Tableau)\n",
    "abstract_df[\"x\"] = reduced_embeddings[:, 0]\n",
    "abstract_df[\"y\"] = reduced_embeddings[:, 1]\n"
   ]
  },
  {
   "cell_type": "code",
   "execution_count": 21,
   "id": "f9b96345",
   "metadata": {},
   "outputs": [],
   "source": [
    "import pickle\n",
    "with open(result_path+'/LLM_en_openalex_title_embeddings_200.pickle', 'wb') as pkl:\n",
    "    pickle.dump(embeddings, pkl)"
   ]
  },
  {
   "cell_type": "code",
   "execution_count": 22,
   "id": "6b52686d",
   "metadata": {},
   "outputs": [],
   "source": [
    "abstract_df.to_csv(data_export_path+\"/LLM_en_openalex_title_w_topics_years_positions_200.csv\",index=False)"
   ]
  },
  {
   "cell_type": "code",
   "execution_count": null,
   "id": "8f3e20af",
   "metadata": {},
   "outputs": [],
   "source": []
  }
 ],
 "metadata": {
  "kernelspec": {
   "display_name": "Python 3",
   "language": "python",
   "name": "python3"
  },
  "language_info": {
   "codemirror_mode": {
    "name": "ipython",
    "version": 3
   },
   "file_extension": ".py",
   "mimetype": "text/x-python",
   "name": "python",
   "nbconvert_exporter": "python",
   "pygments_lexer": "ipython3",
   "version": "3.8.18"
  }
 },
 "nbformat": 4,
 "nbformat_minor": 5
}
