{
 "cells": [
  {
   "cell_type": "code",
   "execution_count": 3,
   "metadata": {},
   "outputs": [],
   "source": [
    "from datasets import load_dataset\n",
    "import pandas as pd\n",
    "from bertopic import BERTopic\n",
    "from bertopic.representation import KeyBERTInspired\n",
    "\n",
    "from bertopic import BERTopic\n",
    "from sentence_transformers import SentenceTransformer\n",
    "from umap import UMAP\n",
    "from sklearn.feature_extraction.text import CountVectorizer\n",
    "from hdbscan import HDBSCAN\n",
    "from sklearn.cluster import KMeans"
   ]
  },
  {
   "cell_type": "code",
   "execution_count": 4,
   "metadata": {},
   "outputs": [],
   "source": [
    "import pandas as pd\n",
    "PATH_data_export = \"/Users/huiziyu/Library/CloudStorage/GoogleDrive-huiziy@g.ucla.edu/My Drive/Project - LLM Bib in Biomedical & Health/data/processed\"\n",
    "data = pd.read_csv(f'{PATH_data_export}/relevant_data.csv')"
   ]
  },
  {
   "cell_type": "code",
   "execution_count": 5,
   "metadata": {},
   "outputs": [],
   "source": [
    "data.head()\n",
    "docs = data[\"Title_abstract\"]"
   ]
  },
  {
   "cell_type": "markdown",
   "metadata": {},
   "source": [
    "## Remove Stopwords"
   ]
  },
  {
   "cell_type": "code",
   "execution_count": 6,
   "metadata": {},
   "outputs": [],
   "source": [
    "from sklearn.feature_extraction.text import CountVectorizer\n",
    "from sklearn.feature_extraction.text import ENGLISH_STOP_WORDS\n",
    "\n",
    "# Your additional stop words\n",
    "additional_stop_words = {\"large language model\", \"GPT\", \"ChatGPT\", \"Llama\", \"Google Palm\", \"Anthropic Claude\", \"Large Language Model\", \"LLM\", \"Chatgpt\",\"health\", \"medical\", \"Health\", \"Medical\"}\n",
    "\n",
    "# Combine default English stop words with your additional ones\n",
    "custom_stop_words = list(ENGLISH_STOP_WORDS.union(additional_stop_words))\n",
    "\n",
    "vectorizer_model = CountVectorizer(stop_words=custom_stop_words)"
   ]
  },
  {
   "cell_type": "code",
   "execution_count": 7,
   "metadata": {},
   "outputs": [
    {
     "data": {
      "application/vnd.jupyter.widget-view+json": {
       "model_id": "c4d4e91c346f43d4b49be9bcb3efe8e5",
       "version_major": 2,
       "version_minor": 0
      },
      "text/plain": [
       ".gitattributes:   0%|          | 0.00/1.52k [00:00<?, ?B/s]"
      ]
     },
     "metadata": {},
     "output_type": "display_data"
    },
    {
     "data": {
      "application/vnd.jupyter.widget-view+json": {
       "model_id": "e3747b30c2d44ba1b3f59ef325218bf5",
       "version_major": 2,
       "version_minor": 0
      },
      "text/plain": [
       "1_Pooling/config.json:   0%|          | 0.00/191 [00:00<?, ?B/s]"
      ]
     },
     "metadata": {},
     "output_type": "display_data"
    },
    {
     "data": {
      "application/vnd.jupyter.widget-view+json": {
       "model_id": "c4397195565449c4a0b54692d5fd4a23",
       "version_major": 2,
       "version_minor": 0
      },
      "text/plain": [
       "README.md:   0%|          | 0.00/67.9k [00:00<?, ?B/s]"
      ]
     },
     "metadata": {},
     "output_type": "display_data"
    },
    {
     "data": {
      "application/vnd.jupyter.widget-view+json": {
       "model_id": "1239ec5344ee4448adcfb51797308d69",
       "version_major": 2,
       "version_minor": 0
      },
      "text/plain": [
       "config.json:   0%|          | 0.00/619 [00:00<?, ?B/s]"
      ]
     },
     "metadata": {},
     "output_type": "display_data"
    },
    {
     "data": {
      "application/vnd.jupyter.widget-view+json": {
       "model_id": "c193103ff8bb469b9242906779df3eb3",
       "version_major": 2,
       "version_minor": 0
      },
      "text/plain": [
       "model.safetensors:   0%|          | 0.00/670M [00:00<?, ?B/s]"
      ]
     },
     "metadata": {},
     "output_type": "display_data"
    },
    {
     "data": {
      "application/vnd.jupyter.widget-view+json": {
       "model_id": "40202f1411e6460692253ecd63f30f76",
       "version_major": 2,
       "version_minor": 0
      },
      "text/plain": [
       "onnx/config.json:   0%|          | 0.00/632 [00:00<?, ?B/s]"
      ]
     },
     "metadata": {},
     "output_type": "display_data"
    },
    {
     "data": {
      "application/vnd.jupyter.widget-view+json": {
       "model_id": "bfdbec0c951a4ec297ca2ee0929dc745",
       "version_major": 2,
       "version_minor": 0
      },
      "text/plain": [
       "model.onnx:   0%|          | 0.00/1.34G [00:00<?, ?B/s]"
      ]
     },
     "metadata": {},
     "output_type": "display_data"
    },
    {
     "data": {
      "application/vnd.jupyter.widget-view+json": {
       "model_id": "526fc177707a45b9942bbcf5c5ab6be5",
       "version_major": 2,
       "version_minor": 0
      },
      "text/plain": [
       "onnx/special_tokens_map.json:   0%|          | 0.00/125 [00:00<?, ?B/s]"
      ]
     },
     "metadata": {},
     "output_type": "display_data"
    },
    {
     "data": {
      "application/vnd.jupyter.widget-view+json": {
       "model_id": "15c4d89770b04f02b17b1701212b572b",
       "version_major": 2,
       "version_minor": 0
      },
      "text/plain": [
       "onnx/tokenizer.json:   0%|          | 0.00/712k [00:00<?, ?B/s]"
      ]
     },
     "metadata": {},
     "output_type": "display_data"
    },
    {
     "data": {
      "application/vnd.jupyter.widget-view+json": {
       "model_id": "1a59e20753564664a0d163c038da6f38",
       "version_major": 2,
       "version_minor": 0
      },
      "text/plain": [
       "onnx/tokenizer_config.json:   0%|          | 0.00/342 [00:00<?, ?B/s]"
      ]
     },
     "metadata": {},
     "output_type": "display_data"
    },
    {
     "data": {
      "application/vnd.jupyter.widget-view+json": {
       "model_id": "f22ab96e23ec458aa420898f966b159b",
       "version_major": 2,
       "version_minor": 0
      },
      "text/plain": [
       "onnx/vocab.txt:   0%|          | 0.00/232k [00:00<?, ?B/s]"
      ]
     },
     "metadata": {},
     "output_type": "display_data"
    },
    {
     "data": {
      "application/vnd.jupyter.widget-view+json": {
       "model_id": "dc8fc8abe9814ff9b2769fecaa2b3d39",
       "version_major": 2,
       "version_minor": 0
      },
      "text/plain": [
       "pytorch_model.bin:   0%|          | 0.00/670M [00:00<?, ?B/s]"
      ]
     },
     "metadata": {},
     "output_type": "display_data"
    },
    {
     "data": {
      "application/vnd.jupyter.widget-view+json": {
       "model_id": "633a666295b9432c9b004d67143fe9e9",
       "version_major": 2,
       "version_minor": 0
      },
      "text/plain": [
       "sentence_bert_config.json:   0%|          | 0.00/57.0 [00:00<?, ?B/s]"
      ]
     },
     "metadata": {},
     "output_type": "display_data"
    },
    {
     "data": {
      "application/vnd.jupyter.widget-view+json": {
       "model_id": "a52628c1d07b497391dd88da6d662abf",
       "version_major": 2,
       "version_minor": 0
      },
      "text/plain": [
       "special_tokens_map.json:   0%|          | 0.00/125 [00:00<?, ?B/s]"
      ]
     },
     "metadata": {},
     "output_type": "display_data"
    },
    {
     "data": {
      "application/vnd.jupyter.widget-view+json": {
       "model_id": "b572b6ffaf1243e1a61c9509d4641cf6",
       "version_major": 2,
       "version_minor": 0
      },
      "text/plain": [
       "tokenizer.json:   0%|          | 0.00/712k [00:00<?, ?B/s]"
      ]
     },
     "metadata": {},
     "output_type": "display_data"
    },
    {
     "data": {
      "application/vnd.jupyter.widget-view+json": {
       "model_id": "b2b1df56f38e40dc88a3f887bb3e8ac0",
       "version_major": 2,
       "version_minor": 0
      },
      "text/plain": [
       "tokenizer_config.json:   0%|          | 0.00/342 [00:00<?, ?B/s]"
      ]
     },
     "metadata": {},
     "output_type": "display_data"
    },
    {
     "data": {
      "application/vnd.jupyter.widget-view+json": {
       "model_id": "bcb3dc2f446a4a6a8c15c4d563a2e6fe",
       "version_major": 2,
       "version_minor": 0
      },
      "text/plain": [
       "vocab.txt:   0%|          | 0.00/232k [00:00<?, ?B/s]"
      ]
     },
     "metadata": {},
     "output_type": "display_data"
    },
    {
     "data": {
      "application/vnd.jupyter.widget-view+json": {
       "model_id": "8cf82c4ce13342b5ab57d6e5c613c9ce",
       "version_major": 2,
       "version_minor": 0
      },
      "text/plain": [
       "modules.json:   0%|          | 0.00/385 [00:00<?, ?B/s]"
      ]
     },
     "metadata": {},
     "output_type": "display_data"
    },
    {
     "ename": "AttributeError",
     "evalue": "module 'numpy' has no attribute 'matrix'",
     "output_type": "error",
     "traceback": [
      "\u001b[0;31m---------------------------------------------------------------------------\u001b[0m",
      "\u001b[0;31mKeyError\u001b[0m                                  Traceback (most recent call last)",
      "File \u001b[0;32m~/opt/anaconda3/envs/stats/lib/python3.9/site-packages/pandas/core/indexes/base.py:3791\u001b[0m, in \u001b[0;36mIndex.get_loc\u001b[0;34m(self, key)\u001b[0m\n\u001b[1;32m   3790\u001b[0m \u001b[39mtry\u001b[39;00m:\n\u001b[0;32m-> 3791\u001b[0m     \u001b[39mreturn\u001b[39;00m \u001b[39mself\u001b[39;49m\u001b[39m.\u001b[39;49m_engine\u001b[39m.\u001b[39;49mget_loc(casted_key)\n\u001b[1;32m   3792\u001b[0m \u001b[39mexcept\u001b[39;00m \u001b[39mKeyError\u001b[39;00m \u001b[39mas\u001b[39;00m err:\n",
      "File \u001b[0;32mindex.pyx:152\u001b[0m, in \u001b[0;36mpandas._libs.index.IndexEngine.get_loc\u001b[0;34m()\u001b[0m\n",
      "File \u001b[0;32mindex.pyx:181\u001b[0m, in \u001b[0;36mpandas._libs.index.IndexEngine.get_loc\u001b[0;34m()\u001b[0m\n",
      "File \u001b[0;32mpandas/_libs/hashtable_class_helper.pxi:7080\u001b[0m, in \u001b[0;36mpandas._libs.hashtable.PyObjectHashTable.get_item\u001b[0;34m()\u001b[0m\n",
      "File \u001b[0;32mpandas/_libs/hashtable_class_helper.pxi:7088\u001b[0m, in \u001b[0;36mpandas._libs.hashtable.PyObjectHashTable.get_item\u001b[0;34m()\u001b[0m\n",
      "\u001b[0;31mKeyError\u001b[0m: 'Old_ID'",
      "\nThe above exception was the direct cause of the following exception:\n",
      "\u001b[0;31mKeyError\u001b[0m                                  Traceback (most recent call last)",
      "File \u001b[0;32m~/opt/anaconda3/envs/stats/lib/python3.9/site-packages/pandas/core/frame.py:4261\u001b[0m, in \u001b[0;36mDataFrame._set_item_mgr\u001b[0;34m(self, key, value, refs)\u001b[0m\n\u001b[1;32m   4260\u001b[0m \u001b[39mtry\u001b[39;00m:\n\u001b[0;32m-> 4261\u001b[0m     loc \u001b[39m=\u001b[39m \u001b[39mself\u001b[39;49m\u001b[39m.\u001b[39;49m_info_axis\u001b[39m.\u001b[39;49mget_loc(key)\n\u001b[1;32m   4262\u001b[0m \u001b[39mexcept\u001b[39;00m \u001b[39mKeyError\u001b[39;00m:\n\u001b[1;32m   4263\u001b[0m     \u001b[39m# This item wasn't present, just insert at end\u001b[39;00m\n",
      "File \u001b[0;32m~/opt/anaconda3/envs/stats/lib/python3.9/site-packages/pandas/core/indexes/base.py:3798\u001b[0m, in \u001b[0;36mIndex.get_loc\u001b[0;34m(self, key)\u001b[0m\n\u001b[1;32m   3797\u001b[0m         \u001b[39mraise\u001b[39;00m InvalidIndexError(key)\n\u001b[0;32m-> 3798\u001b[0m     \u001b[39mraise\u001b[39;00m \u001b[39mKeyError\u001b[39;00m(key) \u001b[39mfrom\u001b[39;00m \u001b[39merr\u001b[39;00m\n\u001b[1;32m   3799\u001b[0m \u001b[39mexcept\u001b[39;00m \u001b[39mTypeError\u001b[39;00m:\n\u001b[1;32m   3800\u001b[0m     \u001b[39m# If we have a listlike key, _check_indexing_error will raise\u001b[39;00m\n\u001b[1;32m   3801\u001b[0m     \u001b[39m#  InvalidIndexError. Otherwise we fall through and re-raise\u001b[39;00m\n\u001b[1;32m   3802\u001b[0m     \u001b[39m#  the TypeError.\u001b[39;00m\n",
      "\u001b[0;31mKeyError\u001b[0m: 'Old_ID'",
      "\nDuring handling of the above exception, another exception occurred:\n",
      "\u001b[0;31mAttributeError\u001b[0m                            Traceback (most recent call last)",
      "\u001b[1;32m/Users/huiziyu/Dropbox/FALL_2023/ResearchCode/LLM_Medical/Analysis/ZeroShote.ipynb Cell 6\u001b[0m line \u001b[0;36m5\n\u001b[1;32m     <a href='vscode-notebook-cell:/Users/huiziyu/Dropbox/FALL_2023/ResearchCode/LLM_Medical/Analysis/ZeroShote.ipynb#W5sZmlsZQ%3D%3D?line=36'>37</a>\u001b[0m \u001b[39m# cluster_model = KMeans(n_clusters=20)\u001b[39;00m\n\u001b[1;32m     <a href='vscode-notebook-cell:/Users/huiziyu/Dropbox/FALL_2023/ResearchCode/LLM_Medical/Analysis/ZeroShote.ipynb#W5sZmlsZQ%3D%3D?line=37'>38</a>\u001b[0m \u001b[39m# topic_model = BERTopic(\u001b[39;00m\n\u001b[1;32m     <a href='vscode-notebook-cell:/Users/huiziyu/Dropbox/FALL_2023/ResearchCode/LLM_Medical/Analysis/ZeroShote.ipynb#W5sZmlsZQ%3D%3D?line=38'>39</a>\u001b[0m \u001b[39m#     hdbscan_model=cluster_model,\u001b[39;00m\n\u001b[0;32m   (...)\u001b[0m\n\u001b[1;32m     <a href='vscode-notebook-cell:/Users/huiziyu/Dropbox/FALL_2023/ResearchCode/LLM_Medical/Analysis/ZeroShote.ipynb#W5sZmlsZQ%3D%3D?line=44'>45</a>\u001b[0m \u001b[39m#     representation_model=KeyBERTInspired()\u001b[39;00m\n\u001b[1;32m     <a href='vscode-notebook-cell:/Users/huiziyu/Dropbox/FALL_2023/ResearchCode/LLM_Medical/Analysis/ZeroShote.ipynb#W5sZmlsZQ%3D%3D?line=45'>46</a>\u001b[0m \u001b[39m# )\u001b[39;00m\n\u001b[1;32m     <a href='vscode-notebook-cell:/Users/huiziyu/Dropbox/FALL_2023/ResearchCode/LLM_Medical/Analysis/ZeroShote.ipynb#W5sZmlsZQ%3D%3D?line=47'>48</a>\u001b[0m topic_model \u001b[39m=\u001b[39m BERTopic(\n\u001b[1;32m     <a href='vscode-notebook-cell:/Users/huiziyu/Dropbox/FALL_2023/ResearchCode/LLM_Medical/Analysis/ZeroShote.ipynb#W5sZmlsZQ%3D%3D?line=48'>49</a>\u001b[0m     embedding_model\u001b[39m=\u001b[39m\u001b[39m\"\u001b[39m\u001b[39mthenlper/gte-large\u001b[39m\u001b[39m\"\u001b[39m, \n\u001b[1;32m     <a href='vscode-notebook-cell:/Users/huiziyu/Dropbox/FALL_2023/ResearchCode/LLM_Medical/Analysis/ZeroShote.ipynb#W5sZmlsZQ%3D%3D?line=49'>50</a>\u001b[0m     vectorizer_model\u001b[39m=\u001b[39mvectorizer_model,\n\u001b[0;32m   (...)\u001b[0m\n\u001b[1;32m     <a href='vscode-notebook-cell:/Users/huiziyu/Dropbox/FALL_2023/ResearchCode/LLM_Medical/Analysis/ZeroShote.ipynb#W5sZmlsZQ%3D%3D?line=53'>54</a>\u001b[0m     representation_model\u001b[39m=\u001b[39mKeyBERTInspired()\n\u001b[1;32m     <a href='vscode-notebook-cell:/Users/huiziyu/Dropbox/FALL_2023/ResearchCode/LLM_Medical/Analysis/ZeroShote.ipynb#W5sZmlsZQ%3D%3D?line=54'>55</a>\u001b[0m )\n\u001b[0;32m---> <a href='vscode-notebook-cell:/Users/huiziyu/Dropbox/FALL_2023/ResearchCode/LLM_Medical/Analysis/ZeroShote.ipynb#W5sZmlsZQ%3D%3D?line=55'>56</a>\u001b[0m topics, _ \u001b[39m=\u001b[39m topic_model\u001b[39m.\u001b[39;49mfit_transform(docs)\n",
      "File \u001b[0;32m~/opt/anaconda3/envs/stats/lib/python3.9/site-packages/bertopic/_bertopic.py:403\u001b[0m, in \u001b[0;36mBERTopic.fit_transform\u001b[0;34m(self, documents, embeddings, images, y)\u001b[0m\n\u001b[1;32m    401\u001b[0m \u001b[39m# Zero-shot Topic Modeling\u001b[39;00m\n\u001b[1;32m    402\u001b[0m \u001b[39mif\u001b[39;00m \u001b[39mself\u001b[39m\u001b[39m.\u001b[39m_is_zeroshot():\n\u001b[0;32m--> 403\u001b[0m     documents, embeddings, assigned_documents, assigned_embeddings \u001b[39m=\u001b[39m \u001b[39mself\u001b[39;49m\u001b[39m.\u001b[39;49m_zeroshot_topic_modeling(documents, embeddings)\n\u001b[1;32m    404\u001b[0m     \u001b[39mif\u001b[39;00m documents \u001b[39mis\u001b[39;00m \u001b[39mNone\u001b[39;00m:\n\u001b[1;32m    405\u001b[0m         \u001b[39mreturn\u001b[39;00m \u001b[39mself\u001b[39m\u001b[39m.\u001b[39m_combine_zeroshot_topics(documents, assigned_documents, assigned_embeddings)\n",
      "File \u001b[0;32m~/opt/anaconda3/envs/stats/lib/python3.9/site-packages/bertopic/_bertopic.py:3447\u001b[0m, in \u001b[0;36mBERTopic._zeroshot_topic_modeling\u001b[0;34m(self, documents, embeddings)\u001b[0m\n\u001b[1;32m   3445\u001b[0m assigned_documents \u001b[39m=\u001b[39m documents\u001b[39m.\u001b[39miloc[assigned_ids]\n\u001b[1;32m   3446\u001b[0m assigned_documents[\u001b[39m\"\u001b[39m\u001b[39mTopic\u001b[39m\u001b[39m\"\u001b[39m] \u001b[39m=\u001b[39m [topic \u001b[39mfor\u001b[39;00m topic \u001b[39min\u001b[39;00m assignment[assigned_ids]]\n\u001b[0;32m-> 3447\u001b[0m assigned_documents[\u001b[39m\"\u001b[39;49m\u001b[39mOld_ID\u001b[39;49m\u001b[39m\"\u001b[39;49m] \u001b[39m=\u001b[39m assigned_documents[\u001b[39m\"\u001b[39m\u001b[39mID\u001b[39m\u001b[39m\"\u001b[39m]\u001b[39m.\u001b[39mcopy()\n\u001b[1;32m   3448\u001b[0m assigned_documents[\u001b[39m\"\u001b[39m\u001b[39mID\u001b[39m\u001b[39m\"\u001b[39m] \u001b[39m=\u001b[39m \u001b[39mrange\u001b[39m(\u001b[39mlen\u001b[39m(assigned_documents))\n\u001b[1;32m   3449\u001b[0m assigned_embeddings \u001b[39m=\u001b[39m embeddings[assigned_ids]\n",
      "File \u001b[0;32m~/opt/anaconda3/envs/stats/lib/python3.9/site-packages/pandas/core/frame.py:4091\u001b[0m, in \u001b[0;36mDataFrame.__setitem__\u001b[0;34m(self, key, value)\u001b[0m\n\u001b[1;32m   4088\u001b[0m     \u001b[39mself\u001b[39m\u001b[39m.\u001b[39m_setitem_array([key], value)\n\u001b[1;32m   4089\u001b[0m \u001b[39melse\u001b[39;00m:\n\u001b[1;32m   4090\u001b[0m     \u001b[39m# set column\u001b[39;00m\n\u001b[0;32m-> 4091\u001b[0m     \u001b[39mself\u001b[39;49m\u001b[39m.\u001b[39;49m_set_item(key, value)\n",
      "File \u001b[0;32m~/opt/anaconda3/envs/stats/lib/python3.9/site-packages/pandas/core/frame.py:4314\u001b[0m, in \u001b[0;36mDataFrame._set_item\u001b[0;34m(self, key, value)\u001b[0m\n\u001b[1;32m   4311\u001b[0m             value \u001b[39m=\u001b[39m np\u001b[39m.\u001b[39mtile(value, (\u001b[39mlen\u001b[39m(existing_piece\u001b[39m.\u001b[39mcolumns), \u001b[39m1\u001b[39m))\u001b[39m.\u001b[39mT\n\u001b[1;32m   4312\u001b[0m             refs \u001b[39m=\u001b[39m \u001b[39mNone\u001b[39;00m\n\u001b[0;32m-> 4314\u001b[0m \u001b[39mself\u001b[39;49m\u001b[39m.\u001b[39;49m_set_item_mgr(key, value, refs)\n",
      "File \u001b[0;32m~/opt/anaconda3/envs/stats/lib/python3.9/site-packages/pandas/core/frame.py:4264\u001b[0m, in \u001b[0;36mDataFrame._set_item_mgr\u001b[0;34m(self, key, value, refs)\u001b[0m\n\u001b[1;32m   4261\u001b[0m     loc \u001b[39m=\u001b[39m \u001b[39mself\u001b[39m\u001b[39m.\u001b[39m_info_axis\u001b[39m.\u001b[39mget_loc(key)\n\u001b[1;32m   4262\u001b[0m \u001b[39mexcept\u001b[39;00m \u001b[39mKeyError\u001b[39;00m:\n\u001b[1;32m   4263\u001b[0m     \u001b[39m# This item wasn't present, just insert at end\u001b[39;00m\n\u001b[0;32m-> 4264\u001b[0m     \u001b[39mself\u001b[39;49m\u001b[39m.\u001b[39;49m_mgr\u001b[39m.\u001b[39;49minsert(\u001b[39mlen\u001b[39;49m(\u001b[39mself\u001b[39;49m\u001b[39m.\u001b[39;49m_info_axis), key, value, refs)\n\u001b[1;32m   4265\u001b[0m \u001b[39melse\u001b[39;00m:\n\u001b[1;32m   4266\u001b[0m     \u001b[39mself\u001b[39m\u001b[39m.\u001b[39m_iset_item_mgr(loc, value, refs\u001b[39m=\u001b[39mrefs)\n",
      "File \u001b[0;32m~/opt/anaconda3/envs/stats/lib/python3.9/site-packages/pandas/core/internals/managers.py:1344\u001b[0m, in \u001b[0;36mBlockManager.insert\u001b[0;34m(self, loc, item, value, refs)\u001b[0m\n\u001b[1;32m   1342\u001b[0m \u001b[39melse\u001b[39;00m:\n\u001b[1;32m   1343\u001b[0m     \u001b[39mself\u001b[39m\u001b[39m.\u001b[39m_insert_update_mgr_locs(loc)\n\u001b[0;32m-> 1344\u001b[0m     \u001b[39mself\u001b[39;49m\u001b[39m.\u001b[39;49m_insert_update_blklocs_and_blknos(loc)\n\u001b[1;32m   1346\u001b[0m \u001b[39mself\u001b[39m\u001b[39m.\u001b[39maxes[\u001b[39m0\u001b[39m] \u001b[39m=\u001b[39m new_axis\n\u001b[1;32m   1347\u001b[0m \u001b[39mself\u001b[39m\u001b[39m.\u001b[39mblocks \u001b[39m+\u001b[39m\u001b[39m=\u001b[39m (block,)\n",
      "File \u001b[0;32m~/opt/anaconda3/envs/stats/lib/python3.9/site-packages/pandas/core/internals/managers.py:1380\u001b[0m, in \u001b[0;36mBlockManager._insert_update_blklocs_and_blknos\u001b[0;34m(self, loc)\u001b[0m\n\u001b[1;32m   1377\u001b[0m \u001b[39m# Accessing public blklocs ensures the public versions are initialized\u001b[39;00m\n\u001b[1;32m   1378\u001b[0m \u001b[39mif\u001b[39;00m loc \u001b[39m==\u001b[39m \u001b[39mself\u001b[39m\u001b[39m.\u001b[39mblklocs\u001b[39m.\u001b[39mshape[\u001b[39m0\u001b[39m]:\n\u001b[1;32m   1379\u001b[0m     \u001b[39m# np.append is a lot faster, let's use it if we can.\u001b[39;00m\n\u001b[0;32m-> 1380\u001b[0m     \u001b[39mself\u001b[39m\u001b[39m.\u001b[39m_blklocs \u001b[39m=\u001b[39m np\u001b[39m.\u001b[39;49mappend(\u001b[39mself\u001b[39;49m\u001b[39m.\u001b[39;49m_blklocs, \u001b[39m0\u001b[39;49m)\n\u001b[1;32m   1381\u001b[0m     \u001b[39mself\u001b[39m\u001b[39m.\u001b[39m_blknos \u001b[39m=\u001b[39m np\u001b[39m.\u001b[39mappend(\u001b[39mself\u001b[39m\u001b[39m.\u001b[39m_blknos, \u001b[39mlen\u001b[39m(\u001b[39mself\u001b[39m\u001b[39m.\u001b[39mblocks))\n\u001b[1;32m   1382\u001b[0m \u001b[39melif\u001b[39;00m loc \u001b[39m==\u001b[39m \u001b[39m0\u001b[39m:\n\u001b[1;32m   1383\u001b[0m     \u001b[39m# np.append is a lot faster, let's use it if we can.\u001b[39;00m\n",
      "File \u001b[0;32m~/opt/anaconda3/envs/stats/lib/python3.9/site-packages/numpy/lib/function_base.py:5615\u001b[0m, in \u001b[0;36mappend\u001b[0;34m(arr, values, axis)\u001b[0m\n\u001b[1;32m   5613\u001b[0m     \u001b[39mif\u001b[39;00m arr\u001b[39m.\u001b[39mndim \u001b[39m!=\u001b[39m \u001b[39m1\u001b[39m:\n\u001b[1;32m   5614\u001b[0m         arr \u001b[39m=\u001b[39m arr\u001b[39m.\u001b[39mravel()\n\u001b[0;32m-> 5615\u001b[0m     values \u001b[39m=\u001b[39m ravel(values)\n\u001b[1;32m   5616\u001b[0m     axis \u001b[39m=\u001b[39m arr\u001b[39m.\u001b[39mndim\u001b[39m-\u001b[39m\u001b[39m1\u001b[39m\n\u001b[1;32m   5617\u001b[0m \u001b[39mreturn\u001b[39;00m concatenate((arr, values), axis\u001b[39m=\u001b[39maxis)\n",
      "File \u001b[0;32m~/opt/anaconda3/envs/stats/lib/python3.9/site-packages/numpy/core/fromnumeric.py:1871\u001b[0m, in \u001b[0;36mravel\u001b[0;34m(a, order)\u001b[0m\n\u001b[1;32m   1768\u001b[0m \u001b[39m@array_function_dispatch\u001b[39m(_ravel_dispatcher)\n\u001b[1;32m   1769\u001b[0m \u001b[39mdef\u001b[39;00m \u001b[39mravel\u001b[39m(a, order\u001b[39m=\u001b[39m\u001b[39m'\u001b[39m\u001b[39mC\u001b[39m\u001b[39m'\u001b[39m):\n\u001b[1;32m   1770\u001b[0m \u001b[39m    \u001b[39m\u001b[39m\"\"\"Return a contiguous flattened array.\u001b[39;00m\n\u001b[1;32m   1771\u001b[0m \n\u001b[1;32m   1772\u001b[0m \u001b[39m    A 1-D array, containing the elements of the input, is returned.  A copy is\u001b[39;00m\n\u001b[0;32m   (...)\u001b[0m\n\u001b[1;32m   1869\u001b[0m \n\u001b[1;32m   1870\u001b[0m \u001b[39m    \"\"\"\u001b[39;00m\n\u001b[0;32m-> 1871\u001b[0m     \u001b[39mif\u001b[39;00m \u001b[39misinstance\u001b[39m(a, np\u001b[39m.\u001b[39;49mmatrix):\n\u001b[1;32m   1872\u001b[0m         \u001b[39mreturn\u001b[39;00m asarray(a)\u001b[39m.\u001b[39mravel(order\u001b[39m=\u001b[39morder)\n\u001b[1;32m   1873\u001b[0m     \u001b[39melse\u001b[39;00m:\n",
      "\u001b[0;31mAttributeError\u001b[0m: module 'numpy' has no attribute 'matrix'"
     ]
    }
   ],
   "source": [
    "zeroshot_topic_list = topics = [\n",
    "    \"Education\",\n",
    "    \"Commonsense Reasoning\",\n",
    "    \"Computational Social Science and Cultural Analytics\",\n",
    "    \"Dialogue and Interactive Systems\",\n",
    "    \"Discourse and Pragmatics\",\n",
    "    \"Efficient Methods for NLP\",\n",
    "    \"Ethics in NLP\",\n",
    "    \"Human-Centered NLP\",\n",
    "    \"Information Extraction\",\n",
    "    \"Information Retrieval and Text Mining\",\n",
    "    \"Interpretability, Interactivity and Analysis of Models for NLP\",\n",
    "    \"Language Grounding to Vision, Robotics and Beyond\",\n",
    "    \"Language Modeling and Analysis of Language Models\",\n",
    "    \"Linguistic Theories, Cognitive Modeling and Psycholinguistics\",\n",
    "    \"Machine Learning for NLP\",\n",
    "    \"Machine Translation\",\n",
    "    \"Multilinguality and Linguistic Diversity\",\n",
    "    \"Natural Language Generation\",\n",
    "    \"NLP Applications\",\n",
    "    \"Phonology, Morphology and Word Segmentation\",\n",
    "    \"Question Answering\",\n",
    "    \"Resources and Evaluation\",\n",
    "    \"Semantics: Lexical, Sentence level, Document Level, Textual Inference, etc.\",\n",
    "    \"Sentiment Analysis, Stylistic Analysis, and Argument Mining\",\n",
    "    \"Speech and Multimodality\",\n",
    "    \"Summarization\",\n",
    "    \"Syntax, Parsing and their Applications\",\n",
    "    \"Theme Track\"\n",
    "]\n",
    "# Change embedding model to scibert \n",
    "# Change clustering model to kmeans\n",
    "# Change vectorizer model to count vectorizer\n",
    "# Remove stopwords\n",
    "cluster_model = KMeans(n_clusters=200)\n",
    "\n",
    "# cluster_model = KMeans(n_clusters=20)\n",
    "# topic_model = BERTopic(\n",
    "#     hdbscan_model=cluster_model,\n",
    "#     embedding_model=\"allenai/scibert_scivocab_uncased\", \n",
    "#     vectorizer_model=vectorizer_model,\n",
    "#     min_topic_size=5,\n",
    "#     zeroshot_topic_list=zeroshot_topic_list,\n",
    "#     zeroshot_min_similarity=.3,\n",
    "#     representation_model=KeyBERTInspired()\n",
    "# )\n",
    "\n",
    "topic_model = BERTopic(\n",
    "    embedding_model=\"thenlper/gte-large\", \n",
    "    vectorizer_model=vectorizer_model,\n",
    "    min_topic_size=5,\n",
    "    zeroshot_topic_list=zeroshot_topic_list,\n",
    "    zeroshot_min_similarity=.3,\n",
    "    representation_model=KeyBERTInspired()\n",
    ")\n",
    "topics, _ = topic_model.fit_transform(docs)"
   ]
  },
  {
   "cell_type": "code",
   "execution_count": 10,
   "metadata": {},
   "outputs": [],
   "source": [
    "topics = topic_model.get_topic_info()"
   ]
  },
  {
   "cell_type": "code",
   "execution_count": 11,
   "metadata": {},
   "outputs": [
    {
     "data": {
      "text/html": [
       "<div>\n",
       "<style scoped>\n",
       "    .dataframe tbody tr th:only-of-type {\n",
       "        vertical-align: middle;\n",
       "    }\n",
       "\n",
       "    .dataframe tbody tr th {\n",
       "        vertical-align: top;\n",
       "    }\n",
       "\n",
       "    .dataframe thead th {\n",
       "        text-align: right;\n",
       "    }\n",
       "</style>\n",
       "<table border=\"1\" class=\"dataframe\">\n",
       "  <thead>\n",
       "    <tr style=\"text-align: right;\">\n",
       "      <th></th>\n",
       "      <th>Topic</th>\n",
       "      <th>Count</th>\n",
       "      <th>Name</th>\n",
       "      <th>Representation</th>\n",
       "      <th>Representative_Docs</th>\n",
       "    </tr>\n",
       "  </thead>\n",
       "  <tbody>\n",
       "    <tr>\n",
       "      <th>0</th>\n",
       "      <td>0</td>\n",
       "      <td>5</td>\n",
       "      <td>Efficient Methods for NLP</td>\n",
       "      <td>[testing, answering, chatgpt, documentation, m...</td>\n",
       "      <td>[Analysis of ChatGPT as a Question-Answering T...</td>\n",
       "    </tr>\n",
       "    <tr>\n",
       "      <th>1</th>\n",
       "      <td>1</td>\n",
       "      <td>39</td>\n",
       "      <td>0_2023google_inequality_gini_models</td>\n",
       "      <td>[2023google, inequality, gini, models, cutoffs...</td>\n",
       "      <td>[Revolution or Peril? The Controversial Role o...</td>\n",
       "    </tr>\n",
       "    <tr>\n",
       "      <th>2</th>\n",
       "      <td>2</td>\n",
       "      <td>32</td>\n",
       "      <td>1_tests_examination_study_evaluation</td>\n",
       "      <td>[tests, examination, study, evaluation, test, ...</td>\n",
       "      <td>[Performance of GPT-3.5 and GPT-4 on the Japan...</td>\n",
       "    </tr>\n",
       "    <tr>\n",
       "      <th>3</th>\n",
       "      <td>3</td>\n",
       "      <td>31</td>\n",
       "      <td>2_quiz_exams_examination_certificate</td>\n",
       "      <td>[quiz, exams, examination, certificate, physic...</td>\n",
       "      <td>[Evaluating Large Language Models on a Highly-...</td>\n",
       "    </tr>\n",
       "    <tr>\n",
       "      <th>4</th>\n",
       "      <td>4</td>\n",
       "      <td>31</td>\n",
       "      <td>3_2023revision_homeradiologyvol_rsna_urology</td>\n",
       "      <td>[2023revision, homeradiologyvol, rsna, urology...</td>\n",
       "      <td>[ChatGPT Is Shaping the Future of Medical Writ...</td>\n",
       "    </tr>\n",
       "    <tr>\n",
       "      <th>...</th>\n",
       "      <td>...</td>\n",
       "      <td>...</td>\n",
       "      <td>...</td>\n",
       "      <td>...</td>\n",
       "      <td>...</td>\n",
       "    </tr>\n",
       "    <tr>\n",
       "      <th>196</th>\n",
       "      <td>196</td>\n",
       "      <td>4</td>\n",
       "      <td>195_decisionmaking_retrieval_orthopedist_evalu...</td>\n",
       "      <td>[decisionmaking, retrieval, orthopedist, evalu...</td>\n",
       "      <td>[Evaluation of ChatGPT's Capabilities in Medic...</td>\n",
       "    </tr>\n",
       "    <tr>\n",
       "      <th>197</th>\n",
       "      <td>197</td>\n",
       "      <td>4</td>\n",
       "      <td>196_bigrams_networks_fake_bigram</td>\n",
       "      <td>[bigrams, networks, fake, bigram, work, calibr...</td>\n",
       "      <td>[Improving Detection of ChatGPT-Generated Fake...</td>\n",
       "    </tr>\n",
       "    <tr>\n",
       "      <th>198</th>\n",
       "      <td>198</td>\n",
       "      <td>3</td>\n",
       "      <td>197_perceptions_questionnaire_attitudes_factors</td>\n",
       "      <td>[perceptions, questionnaire, attitudes, factor...</td>\n",
       "      <td>[User Intentions to Use ChatGPT for Self-Diagn...</td>\n",
       "    </tr>\n",
       "    <tr>\n",
       "      <th>199</th>\n",
       "      <td>199</td>\n",
       "      <td>3</td>\n",
       "      <td>198_review_perspective_imaging_action</td>\n",
       "      <td>[review, perspective, imaging, action, potenti...</td>\n",
       "      <td>[ChatGPT in Radiology: The Advantages and Limi...</td>\n",
       "    </tr>\n",
       "    <tr>\n",
       "      <th>200</th>\n",
       "      <td>200</td>\n",
       "      <td>2</td>\n",
       "      <td>199_pandemics_epidemics_talked_chatbot</td>\n",
       "      <td>[pandemics, epidemics, talked, chatbot, brains...</td>\n",
       "      <td>[Generative AI for Business Decision-Making: A...</td>\n",
       "    </tr>\n",
       "  </tbody>\n",
       "</table>\n",
       "<p>201 rows × 5 columns</p>\n",
       "</div>"
      ],
      "text/plain": [
       "     Topic  Count                                               Name  \\\n",
       "0        0      5                          Efficient Methods for NLP   \n",
       "1        1     39                0_2023google_inequality_gini_models   \n",
       "2        2     32               1_tests_examination_study_evaluation   \n",
       "3        3     31               2_quiz_exams_examination_certificate   \n",
       "4        4     31       3_2023revision_homeradiologyvol_rsna_urology   \n",
       "..     ...    ...                                                ...   \n",
       "196    196      4  195_decisionmaking_retrieval_orthopedist_evalu...   \n",
       "197    197      4                   196_bigrams_networks_fake_bigram   \n",
       "198    198      3    197_perceptions_questionnaire_attitudes_factors   \n",
       "199    199      3              198_review_perspective_imaging_action   \n",
       "200    200      2             199_pandemics_epidemics_talked_chatbot   \n",
       "\n",
       "                                        Representation  \\\n",
       "0    [testing, answering, chatgpt, documentation, m...   \n",
       "1    [2023google, inequality, gini, models, cutoffs...   \n",
       "2    [tests, examination, study, evaluation, test, ...   \n",
       "3    [quiz, exams, examination, certificate, physic...   \n",
       "4    [2023revision, homeradiologyvol, rsna, urology...   \n",
       "..                                                 ...   \n",
       "196  [decisionmaking, retrieval, orthopedist, evalu...   \n",
       "197  [bigrams, networks, fake, bigram, work, calibr...   \n",
       "198  [perceptions, questionnaire, attitudes, factor...   \n",
       "199  [review, perspective, imaging, action, potenti...   \n",
       "200  [pandemics, epidemics, talked, chatbot, brains...   \n",
       "\n",
       "                                   Representative_Docs  \n",
       "0    [Analysis of ChatGPT as a Question-Answering T...  \n",
       "1    [Revolution or Peril? The Controversial Role o...  \n",
       "2    [Performance of GPT-3.5 and GPT-4 on the Japan...  \n",
       "3    [Evaluating Large Language Models on a Highly-...  \n",
       "4    [ChatGPT Is Shaping the Future of Medical Writ...  \n",
       "..                                                 ...  \n",
       "196  [Evaluation of ChatGPT's Capabilities in Medic...  \n",
       "197  [Improving Detection of ChatGPT-Generated Fake...  \n",
       "198  [User Intentions to Use ChatGPT for Self-Diagn...  \n",
       "199  [ChatGPT in Radiology: The Advantages and Limi...  \n",
       "200  [Generative AI for Business Decision-Making: A...  \n",
       "\n",
       "[201 rows x 5 columns]"
      ]
     },
     "execution_count": 11,
     "metadata": {},
     "output_type": "execute_result"
    }
   ],
   "source": [
    "topics"
   ]
  },
  {
   "cell_type": "code",
   "execution_count": 27,
   "metadata": {},
   "outputs": [
    {
     "name": "stderr",
     "output_type": "stream",
     "text": [
      "huggingface/tokenizers: The current process just got forked, after parallelism has already been used. Disabling parallelism to avoid deadlocks...\n",
      "To disable this warning, you can either:\n",
      "\t- Avoid using `tokenizers` before the fork if possible\n",
      "\t- Explicitly set the environment variable TOKENIZERS_PARALLELISM=(true | false)\n"
     ]
    },
    {
     "name": "stdout",
     "output_type": "stream",
     "text": [
      "Collecting openpyxl\n",
      "  Downloading openpyxl-3.1.2-py2.py3-none-any.whl (249 kB)\n",
      "\u001b[2K     \u001b[90m━━━━━━━━━━━━━━━━━━━━━━━━━━━━━━━━━━━━━━━\u001b[0m \u001b[32m250.0/250.0 kB\u001b[0m \u001b[31m2.1 MB/s\u001b[0m eta \u001b[36m0:00:00\u001b[0m00:01\u001b[0m00:01\u001b[0m\n",
      "\u001b[?25hCollecting et-xmlfile (from openpyxl)\n",
      "  Downloading et_xmlfile-1.1.0-py3-none-any.whl (4.7 kB)\n",
      "Installing collected packages: et-xmlfile, openpyxl\n",
      "Successfully installed et-xmlfile-1.1.0 openpyxl-3.1.2\n"
     ]
    }
   ],
   "source": [
    "!pip install openpyxl"
   ]
  },
  {
   "cell_type": "code",
   "execution_count": 8,
   "metadata": {},
   "outputs": [],
   "source": [
    "topics.to_excel(f'{PATH_data_export}/topics.xlsx', index=False)"
   ]
  }
 ],
 "metadata": {
  "kernelspec": {
   "display_name": "stats",
   "language": "python",
   "name": "python3"
  },
  "language_info": {
   "codemirror_mode": {
    "name": "ipython",
    "version": 3
   },
   "file_extension": ".py",
   "mimetype": "text/x-python",
   "name": "python",
   "nbconvert_exporter": "python",
   "pygments_lexer": "ipython3",
   "version": "3.9.0"
  }
 },
 "nbformat": 4,
 "nbformat_minor": 2
}
